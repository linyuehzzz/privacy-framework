{
 "cells": [
  {
   "cell_type": "markdown",
   "metadata": {},
   "source": [
    "### Model to reassign all true uniques: set coverage"
   ]
  },
  {
   "cell_type": "markdown",
   "metadata": {},
   "source": [
    "Model inputs"
   ]
  },
  {
   "cell_type": "code",
   "execution_count": 18,
   "metadata": {},
   "outputs": [
    {
     "name": "stdout",
     "output_type": "stream",
     "text": [
      "[[1], [1], [0], [2], [1], [1], []]\n",
      "(3, 3, 7) [[1.  1.5 1. ]\n",
      " [1.5 2.  1.5]\n",
      " [1.  1.5 1. ]]\n"
     ]
    }
   ],
   "source": [
    "import numpy as np\n",
    "\n",
    "A = np.array([[3,1,0],[0,1,2],[1,0,0],[2,0,1],[0,1,0],[2,1,2],[0,3,4]]).T\n",
    "\n",
    "# define all the input data for the model\n",
    "I, K = A.shape[0], A.shape[1]\n",
    "nj = 3\n",
    "r = 1\n",
    "\n",
    "V = []\n",
    "for k in range(K):\n",
    "    row = []\n",
    "    for i in range(I):\n",
    "        if A[i, k] <= r and A[i, k] > 0:\n",
    "            row.append(i)\n",
    "    V.append(row)\n",
    "print(V)\n",
    "\n",
    "W = np.empty([I, I, K])\n",
    "for i in range(I):\n",
    "    for j in range(I):\n",
    "        for k in range(K):\n",
    "            if A[i, k] == 0 or A[j, k] == 0:\n",
    "                W[i, j, k] = 50\n",
    "            else:\n",
    "                W[i, j, k] = 1 / A[i, k] + 1 / A[j, k]\n",
    "print(W.shape, W[:, :, 5])            "
   ]
  },
  {
   "cell_type": "markdown",
   "metadata": {},
   "source": [
    "Coverage I: all except the origin and other uniques"
   ]
  },
  {
   "cell_type": "code",
   "execution_count": 17,
   "metadata": {},
   "outputs": [
    {
     "data": {
      "text/plain": [
       "array([[0., 0., 1.],\n",
       "       [1., 0., 1.],\n",
       "       [1., 0., 0.]])"
      ]
     },
     "execution_count": 17,
     "metadata": {},
     "output_type": "execute_result"
    }
   ],
   "source": [
    "import numpy as np\n",
    "\n",
    "## define coverage aijk\n",
    "T = np.ones((I, I, K))\n",
    "\n",
    "for i in range(I): \n",
    "    for j in range(I):\n",
    "        for k in range(K):\n",
    "            if i == j or j in V[k]:\n",
    "                T[i, j, k] = 0\n",
    "T[:, :, 5]"
   ]
  },
  {
   "cell_type": "markdown",
   "metadata": {},
   "source": [
    "Run model"
   ]
  },
  {
   "cell_type": "code",
   "execution_count": 7,
   "metadata": {},
   "outputs": [
    {
     "name": "stdout",
     "output_type": "stream",
     "text": [
      "\n",
      "--------------------------------------------\n",
      "Warning: your license will expire in 11 days\n",
      "--------------------------------------------\n",
      "\n",
      "Academic license - for non-commercial use only - expires 2022-08-05\n",
      "Using license file C:\\Users\\10716\\gurobi.lic\n",
      "Gurobi Optimizer version 9.1.1 build v9.1.1rc0 (win64)\n",
      "Thread count: 2 physical cores, 4 logical processors, using up to 4 threads\n",
      "Optimize a model with 15 rows, 18 columns and 48 nonzeros\n",
      "Model fingerprint: 0xc3050b0f\n",
      "Coefficient statistics:\n",
      "  Matrix range     [1e+00, 1e+00]\n",
      "  Objective range  [1e+00, 5e+01]\n",
      "  Bounds range     [1e+00, 1e+00]\n",
      "  RHS range        [1e+00, 3e+00]\n",
      "Presolve removed 13 rows and 14 columns\n",
      "Presolve time: 0.02s\n",
      "Presolved: 2 rows, 4 columns, 7 nonzeros\n",
      "\n",
      "Iteration    Objective       Primal Inf.    Dual Inf.      Time\n",
      "       0    1.0583333e+02   1.000000e+00   0.000000e+00      0s\n",
      "       1    1.0583333e+02   0.000000e+00   0.000000e+00      0s\n",
      "\n",
      "Solved in 1 iterations and 0.04 seconds\n",
      "Optimal objective  1.058333333e+02\n"
     ]
    }
   ],
   "source": [
    "import pandas as pd\n",
    "from gurobipy import Model, GRB, LinExpr, quicksum\n",
    "\n",
    "# initialize model\n",
    "m = Model('td')\n",
    "# m.Params.LogToConsole = 0\n",
    "\n",
    "# add objective function\n",
    "obj = LinExpr()\n",
    "\n",
    "# add decision variables and objective function\n",
    "theta = {}\n",
    "for k in range(K):\n",
    "    if len(V[k]) == 0:\n",
    "        continue\n",
    "    for i in V[k]:\n",
    "        for j in range(I):\n",
    "            # decision variables\n",
    "            theta[i, j, k] = m.addVar(vtype=GRB.CONTINUOUS, lb=0, ub=1, name=\"theta_%d_%d_%d\"%(i, j, k))\n",
    "            # m.update()\n",
    "            # objective\n",
    "            obj += theta[i, j, k] * A[i, k] * W[i, j, k]\n",
    "\n",
    "        # add constraints\n",
    "        m.addConstr(quicksum(theta[i, j, k] for j in range(I)) == 1)\n",
    "        m.addConstr(quicksum(T[i, j, k] * theta[i, j, k] for j in range(I)) == 1)\n",
    "\n",
    "for j in range(I):\n",
    "    m.addConstr(quicksum(quicksum(theta[i, j, k] * A[i, k] for i in V[k]) for k in range(K)) <= nj)\n",
    "\n",
    "m.setObjective(obj, GRB.MINIMIZE)\n",
    "\n",
    "m.update()\n",
    "m.optimize()"
   ]
  },
  {
   "cell_type": "code",
   "execution_count": 19,
   "metadata": {},
   "outputs": [
    {
     "name": "stdout",
     "output_type": "stream",
     "text": [
      "theta_1_0_0 1.0\n",
      "theta_1_1_0 0.0\n",
      "theta_1_2_0 0.0\n",
      "theta_1_0_1 0.0\n",
      "theta_1_1_1 0.0\n",
      "theta_1_2_1 1.0\n",
      "theta_0_0_2 0.0\n",
      "theta_0_1_2 1.0\n",
      "theta_0_2_2 0.0\n",
      "theta_2_0_3 1.0\n",
      "theta_2_1_3 0.0\n",
      "theta_2_2_3 0.0\n",
      "theta_1_0_4 0.0\n",
      "theta_1_1_4 0.0\n",
      "theta_1_2_4 1.0\n",
      "theta_1_0_5 1.0\n",
      "theta_1_1_5 0.0\n",
      "theta_1_2_5 0.0\n"
     ]
    }
   ],
   "source": [
    "for var in m.getVars():\n",
    "    print(var.VarName, var.X)"
   ]
  },
  {
   "cell_type": "markdown",
   "metadata": {},
   "source": [
    "Disclosure risks after protection: VOTINGAGE (2) $*$ HISPANIC (2) $*$ RACE (7)"
   ]
  },
  {
   "cell_type": "code",
   "execution_count": 14,
   "metadata": {},
   "outputs": [
    {
     "name": "stdout",
     "output_type": "stream",
     "text": [
      "[[1. 0. 0.]\n",
      " [1. 0. 0.]\n",
      " [0. 0. 0.]]\n",
      "[[1. 0. 0.]\n",
      " [1. 0. 0.]\n",
      " [0. 0. 1.]]\n"
     ]
    }
   ],
   "source": [
    "theta_all = np.zeros([I, I, K])\n",
    "for k in range(K):\n",
    "    for i in range(I):\n",
    "        if i not in V[k] and A[i, k] != 0:\n",
    "            theta_all[i, i, k] = 1\n",
    "\n",
    "for var in m.getVars():\n",
    "    name = var.VarName.split(\"_\")\n",
    "    theta_all[int(name[1]), int(name[2]), int(name[3])] = var.X\n",
    "\n",
    "# check\n",
    "print(theta_all[:,:,0])\n",
    "print(theta_all[:,:,5])"
   ]
  },
  {
   "cell_type": "code",
   "execution_count": 105,
   "metadata": {},
   "outputs": [
    {
     "name": "stderr",
     "output_type": "stream",
     "text": [
      "c:\\Users\\10716\\AppData\\Local\\Programs\\Python\\Python37\\lib\\site-packages\\ipykernel_launcher.py:8: RuntimeWarning: invalid value encountered in double_scalars\n",
      "  \n"
     ]
    },
    {
     "name": "stdout",
     "output_type": "stream",
     "text": [
      "Identification prob:  0.03446742608945718\n"
     ]
    }
   ],
   "source": [
    "p = np.ones([I, K])\n",
    "for k in range(K):\n",
    "    for j in range(I):\n",
    "        sum = 0\n",
    "        for i in V[k]:\n",
    "            if i != j:\n",
    "                sum += theta_all[i, j, k] * A[i, k]\n",
    "        p[j, k] = theta_all[j, j, k] / (theta_all[j, j, k] * A[j, k] + sum)\n",
    "\n",
    "p[~np.isfinite(p)] = 0\n",
    "print(\"Identification prob: \", np.sum(p) / p.size)"
   ]
  },
  {
   "cell_type": "code",
   "execution_count": 106,
   "metadata": {},
   "outputs": [
    {
     "name": "stdout",
     "output_type": "stream",
     "text": [
      "Unique prob:  0.0\n"
     ]
    }
   ],
   "source": [
    "v = 0\n",
    "for k in range(K):\n",
    "    for i in range(I):\n",
    "        if A[i, k] == 1 and theta_all[i, i, k] == 1:\n",
    "            v += 1\n",
    "\n",
    "print(\"Unique prob: \", np.sum(v) / (I * K))"
   ]
  },
  {
   "cell_type": "markdown",
   "metadata": {},
   "source": [
    "Disclosure risks after protection: HISPANIC (2) $*$ RACE (7)"
   ]
  },
  {
   "cell_type": "code",
   "execution_count": 107,
   "metadata": {},
   "outputs": [
    {
     "name": "stderr",
     "output_type": "stream",
     "text": [
      "c:\\Users\\10716\\AppData\\Local\\Programs\\Python\\Python37\\lib\\site-packages\\ipykernel_launcher.py:21: RuntimeWarning: invalid value encountered in double_scalars\n"
     ]
    },
    {
     "data": {
      "text/plain": [
       "array([[1., 1., 1., ..., 0., 1., 1.],\n",
       "       [1., 1., 1., ..., 0., 1., 0.],\n",
       "       [1., 1., 1., ..., 0., 1., 0.],\n",
       "       ...,\n",
       "       [1., 1., 1., ..., 0., 1., 1.],\n",
       "       [1., 1., 1., ..., 0., 1., 0.],\n",
       "       [1., 0., 0., ..., 0., 0., 0.]])"
      ]
     },
     "execution_count": 107,
     "metadata": {},
     "output_type": "execute_result"
    }
   ],
   "source": [
    "K2 = hist2.shape[1] - 1\n",
    "Q2 = np.empty([K2, K])\n",
    "\n",
    "for idx2, col2 in enumerate(hist2.iloc[:,1:].columns):\n",
    "    x = col2[0:2]\n",
    "    y = col2[2:4]\n",
    "    for idx, col in enumerate(hist.iloc[:,1:].columns):\n",
    "        if x == col[0:2] and y == col[4:6]:\n",
    "            Q2[idx2, idx] = 1\n",
    "        else:\n",
    "            Q2[idx2, idx] = 0\n",
    "\n",
    "theta2_all = np.empty([I, I, K2])\n",
    "for k2 in range(K2):\n",
    "    for i in range(I):\n",
    "        for j in range(I):\n",
    "            sum1, sum2 = 0, 0\n",
    "            for k in range(K):\n",
    "                sum1 += Q2[k2, k] * theta_all[i, j, k] * A[i, k]\n",
    "                sum2 += Q2[k2, k] * A[i, k]\n",
    "            theta2_all[i, j, k2] = sum1 / sum2\n",
    "            \n",
    "theta2_all[~np.isfinite(theta2_all)] = 0\n",
    "# check\n",
    "np.sum(theta2_all, axis=1)        "
   ]
  },
  {
   "cell_type": "code",
   "execution_count": 108,
   "metadata": {},
   "outputs": [
    {
     "name": "stderr",
     "output_type": "stream",
     "text": [
      "c:\\Users\\10716\\AppData\\Local\\Programs\\Python\\Python37\\lib\\site-packages\\ipykernel_launcher.py:10: RuntimeWarning: invalid value encountered in double_scalars\n",
      "  # Remove the CWD from sys.path while we load stuff.\n"
     ]
    },
    {
     "name": "stdout",
     "output_type": "stream",
     "text": [
      "Identification prob:  0.028175008300853396\n"
     ]
    }
   ],
   "source": [
    "p = np.ones([I, K2])\n",
    "for k2 in range(K2):\n",
    "    for j in range(I):\n",
    "        sum = 0\n",
    "        for k in range(K):\n",
    "            sum += Q2[k2, k] * theta_all[j, j, k] * A[j, k] \n",
    "            for i in V[k]:\n",
    "                if i != j:\n",
    "                    sum += Q2[k2, k] * theta_all[i, j, k] * A[i, k]\n",
    "        p[j, k2] = theta2_all[j, j, k2] / sum\n",
    "p[~np.isfinite(p)] = 0\n",
    "print(\"Identification prob: \", np.sum(p) / p.size)"
   ]
  },
  {
   "cell_type": "code",
   "execution_count": 109,
   "metadata": {},
   "outputs": [
    {
     "name": "stdout",
     "output_type": "stream",
     "text": [
      "Unique prob:  0.0\n"
     ]
    }
   ],
   "source": [
    "v = 0\n",
    "A2 = hist2.iloc[:,1:].to_numpy()\n",
    "for k2 in range(K2):\n",
    "    for i in range(I):\n",
    "        if A2[i, k2] == 1 and theta2_all[i, i, k2] == 1:\n",
    "            v += 1\n",
    "\n",
    "print(\"Unique prob: \", np.sum(v) / (I * K2))"
   ]
  },
  {
   "cell_type": "markdown",
   "metadata": {},
   "source": [
    "Disclosure risks after protection: RACE (7)"
   ]
  },
  {
   "cell_type": "code",
   "execution_count": 110,
   "metadata": {},
   "outputs": [
    {
     "name": "stderr",
     "output_type": "stream",
     "text": [
      "c:\\Users\\10716\\AppData\\Local\\Programs\\Python\\Python37\\lib\\site-packages\\ipykernel_launcher.py:20: RuntimeWarning: invalid value encountered in double_scalars\n"
     ]
    },
    {
     "data": {
      "text/plain": [
       "array([[1., 1., 1., ..., 0., 1., 1.],\n",
       "       [1., 1., 1., ..., 1., 1., 1.],\n",
       "       [1., 1., 1., ..., 0., 1., 1.],\n",
       "       ...,\n",
       "       [1., 1., 1., ..., 0., 1., 1.],\n",
       "       [1., 1., 1., ..., 1., 1., 1.],\n",
       "       [1., 0., 0., ..., 0., 0., 0.]])"
      ]
     },
     "execution_count": 110,
     "metadata": {},
     "output_type": "execute_result"
    }
   ],
   "source": [
    "K3 = hist3.shape[1] - 1\n",
    "Q3 = np.empty([K3, K])\n",
    "\n",
    "for idx3, col3 in enumerate(hist3.iloc[:,1:].columns):\n",
    "    x = col3[0:2]\n",
    "    for idx, col in enumerate(hist.iloc[:,1:].columns):\n",
    "        if x == col[0:2]:\n",
    "            Q3[idx3, idx] = 1\n",
    "        else:\n",
    "            Q3[idx3, idx] = 0\n",
    "\n",
    "theta3_all = np.empty([I, I, K3])\n",
    "for k3 in range(K3):\n",
    "    for i in range(I):\n",
    "        for j in range(I):\n",
    "            sum1, sum2 = 0, 0\n",
    "            for k in range(K):\n",
    "                sum1 += Q3[k3, k] * theta_all[i, j, k] * A[i, k]\n",
    "                sum2 += Q3[k3, k] * A[i, k]\n",
    "            theta3_all[i, j, k3] = sum1 / sum2\n",
    "            \n",
    "theta3_all[~np.isfinite(theta3_all)] = 0\n",
    "# check\n",
    "np.sum(theta3_all, axis=1)        "
   ]
  },
  {
   "cell_type": "code",
   "execution_count": 111,
   "metadata": {},
   "outputs": [
    {
     "name": "stderr",
     "output_type": "stream",
     "text": [
      "c:\\Users\\10716\\AppData\\Local\\Programs\\Python\\Python37\\lib\\site-packages\\ipykernel_launcher.py:10: RuntimeWarning: invalid value encountered in double_scalars\n",
      "  # Remove the CWD from sys.path while we load stuff.\n"
     ]
    },
    {
     "name": "stdout",
     "output_type": "stream",
     "text": [
      "Identification prob:  0.024519269867160496\n"
     ]
    }
   ],
   "source": [
    "p = np.ones([I, K3])\n",
    "for k3 in range(K3):\n",
    "    for j in range(I):\n",
    "        sum = 0\n",
    "        for k in range(K):\n",
    "            sum += Q3[k3, k] * theta_all[j, j, k] * A[j, k] \n",
    "            for i in V[k]:\n",
    "                if i != j:\n",
    "                    sum += Q3[k3, k] * theta_all[i, j, k] * A[i, k]\n",
    "        p[j, k3] = theta3_all[j, j, k3] / sum\n",
    "p[~np.isfinite(p)] = 0\n",
    "print(\"Identification prob: \", np.sum(p) / p.size)"
   ]
  },
  {
   "cell_type": "code",
   "execution_count": 112,
   "metadata": {},
   "outputs": [
    {
     "name": "stdout",
     "output_type": "stream",
     "text": [
      "Unique prob:  0.0\n"
     ]
    }
   ],
   "source": [
    "v = 0\n",
    "A3 = hist3.iloc[:,1:].to_numpy()\n",
    "for k3 in range(K3):\n",
    "    for i in range(I):\n",
    "        if A3[i, k3] == 1 and theta3_all[i, i, k3] == 1:\n",
    "            v += 1\n",
    "\n",
    "print(\"Unique prob: \", np.sum(v) / (I * K3))"
   ]
  },
  {
   "cell_type": "markdown",
   "metadata": {},
   "source": [
    "SMAPE and penalized MAPE"
   ]
  },
  {
   "cell_type": "code",
   "execution_count": 113,
   "metadata": {},
   "outputs": [
    {
     "name": "stderr",
     "output_type": "stream",
     "text": [
      "c:\\Users\\10716\\AppData\\Local\\Programs\\Python\\Python37\\lib\\site-packages\\ipykernel_launcher.py:12: RuntimeWarning: invalid value encountered in double_scalars\n",
      "  if sys.path[0] == '':\n"
     ]
    },
    {
     "name": "stdout",
     "output_type": "stream",
     "text": [
      "SMAPE:  0.23328700586173698\n",
      "P-MAPE:  4.033453614740033\n"
     ]
    }
   ],
   "source": [
    "# VOTINGAGE (2) $*$ HISPANIC (2) $*$ RACE (7)\n",
    "delta = np.empty([I, K])\n",
    "delta_p = np.empty([I, I, K])\n",
    "for k in range(K):\n",
    "    for j in range(I):\n",
    "        sum = 0\n",
    "        for i in V[k]:\n",
    "            delta_p[i, j, k] = theta_all[i, j, k] * A[i, k] * W[i, j, k]\n",
    "            if i != j:\n",
    "                sum += theta_all[i, j, k] * A[i, k]\n",
    "        new = theta_all[j, j, k] * A[j, k] + sum\n",
    "        delta[j, k] = abs(A[j, k] - new) / (A[j, k] + new)\n",
    "\n",
    "delta[~np.isfinite(delta)] = 0\n",
    "delta_p[~np.isfinite(delta_p)] = 0\n",
    "print(\"SMAPE: \", np.sum(delta) / (I * K))\n",
    "print(\"P-MAPE: \", np.sum(delta_p) / (I * K))"
   ]
  },
  {
   "cell_type": "code",
   "execution_count": 114,
   "metadata": {},
   "outputs": [
    {
     "name": "stderr",
     "output_type": "stream",
     "text": [
      "c:\\Users\\10716\\AppData\\Local\\Programs\\Python\\Python37\\lib\\site-packages\\ipykernel_launcher.py:8: RuntimeWarning: invalid value encountered in double_scalars\n",
      "  \n"
     ]
    },
    {
     "name": "stdout",
     "output_type": "stream",
     "text": [
      "SMAPE:  0.2540773411495699\n"
     ]
    }
   ],
   "source": [
    "# HISPANIC (2) $*$ RACE (7)\n",
    "delta2 = np.empty([I, K2])\n",
    "for k2 in range(K2):\n",
    "    for j in range(I):\n",
    "        new = 0\n",
    "        for i in range(I):\n",
    "            new += theta2_all[i, j, k2] * A2[i, k2]\n",
    "        delta2[j, k2] = abs(A2[j, k2] - new) / (A2[j, k2] + new)\n",
    "\n",
    "delta2[~np.isfinite(delta2)] = 0\n",
    "print(\"SMAPE: \", np.sum(delta2) / (I * K2))"
   ]
  },
  {
   "cell_type": "code",
   "execution_count": 115,
   "metadata": {},
   "outputs": [
    {
     "name": "stderr",
     "output_type": "stream",
     "text": [
      "c:\\Users\\10716\\AppData\\Local\\Programs\\Python\\Python37\\lib\\site-packages\\ipykernel_launcher.py:8: RuntimeWarning: invalid value encountered in double_scalars\n",
      "  \n"
     ]
    },
    {
     "name": "stdout",
     "output_type": "stream",
     "text": [
      "SMAPE:  0.15372884166584785\n"
     ]
    }
   ],
   "source": [
    "# RACE (7)\n",
    "delta3 = np.empty([I, K3])\n",
    "for k3 in range(K3):\n",
    "    for j in range(I):\n",
    "        new = 0\n",
    "        for i in range(I):\n",
    "            new += theta3_all[i, j, k3] * A3[i, k3]\n",
    "        delta3[j, k3] = abs(A3[j, k3] - new) / (A3[j, k3] + new)\n",
    "\n",
    "delta3[~np.isfinite(delta3)] = 0\n",
    "print(\"SMAPE: \", np.sum(delta3) / (I * K3))"
   ]
  },
  {
   "cell_type": "markdown",
   "metadata": {},
   "source": [
    "LISA:FA"
   ]
  },
  {
   "cell_type": "code",
   "execution_count": 155,
   "metadata": {},
   "outputs": [
    {
     "name": "stderr",
     "output_type": "stream",
     "text": [
      "The PostScript backend does not support transparency; partially transparent artists will be rendered opaque.\n",
      "The PostScript backend does not support transparency; partially transparent artists will be rendered opaque.\n"
     ]
    },
    {
     "data": {
      "image/png": "[encoded data removed]",
      "text/plain": [
       "<Figure size 432x288 with 1 Axes>"
      ]
     },
     "metadata": {
      "needs_background": "light"
     },
     "output_type": "display_data"
    }
   ],
   "source": [
    "import numpy as np\n",
    "import geopandas as gpd\n",
    "from pysal.lib import weights\n",
    "from pysal.explore import esda\n",
    "import matplotlib.pyplot as plt  # Graphics\n",
    "from splot.esda import lisa_cluster\n",
    "\n",
    "np.random.seed(0)\n",
    "filename_gdf = 'data/franklin_tract10.json'\n",
    "gdf = gpd.read_file(filename_gdf)\n",
    "merged_fa = gdf.set_index('GEOID10').join(hist2.set_index('TRACT'))\n",
    "merged_fa[\"0101_pct_before\"] = merged_fa[\"0200\"]/(merged_fa[\"0000\"]+merged_fa[\"0100\"]+merged_fa[\"0200\"]+merged_fa[\"0300\"]+merged_fa[\"0400\"]+merged_fa[\"0500\"]+merged_fa[\"0600\"]+merged_fa[\"0001\"]+merged_fa[\"0101\"]+merged_fa[\"0201\"]+merged_fa[\"0301\"]+merged_fa[\"0401\"]+merged_fa[\"0501\"]+merged_fa[\"0601\"]) * 100\n",
    "merged_fa = merged_fa.sort_index()\n",
    "\n",
    "gdf['GEOID10'] = gdf['GEOID10'].astype(str)\n",
    "w = weights.distance.KNN.from_dataframe(gdf, k=20)\n",
    "w.transform = 'R'\n",
    "lisa = esda.moran.Moran_Local(merged_fa[\"0101_pct_before\"], w)\n",
    "fig = lisa_cluster(lisa, gdf)\n",
    "plt.savefig('plot/lisa_original.eps', format='eps')"
   ]
  },
  {
   "cell_type": "code",
   "execution_count": 156,
   "metadata": {},
   "outputs": [
    {
     "name": "stderr",
     "output_type": "stream",
     "text": [
      "c:\\Users\\10716\\AppData\\Local\\Programs\\Python\\Python37\\lib\\site-packages\\ipykernel_launcher.py:38: RuntimeWarning: invalid value encountered in double_scalars\n",
      "The PostScript backend does not support transparency; partially transparent artists will be rendered opaque.\n",
      "The PostScript backend does not support transparency; partially transparent artists will be rendered opaque.\n"
     ]
    },
    {
     "data": {
      "image/png": "[encoded data removed]",
      "text/plain": [
       "<Figure size 432x288 with 1 Axes>"
      ]
     },
     "metadata": {
      "needs_background": "light"
     },
     "output_type": "display_data"
    }
   ],
   "source": [
    "## FA\n",
    "import csv\n",
    "import numpy as np\n",
    "import geopandas as gpd\n",
    "from splot.esda import lisa_cluster\n",
    "\n",
    "with open('data/theta/SCM-FA.csv', newline='') as f:\n",
    "    reader = csv.reader(f)\n",
    "    data_fa = list(reader)\n",
    "\n",
    "theta_fa = np.empty([I, I, K])\n",
    "for k in range(K):\n",
    "    for i in range(I):\n",
    "        if i not in V[k] and A[i, k] != 0:\n",
    "            theta_fa[i, i, k] = 1\n",
    "for var in data_fa:\n",
    "    name = var[0].split(\"_\")\n",
    "    theta_fa[int(name[1]), int(name[2]), int(name[3])] = var[1]\n",
    "\n",
    "K2 = hist2.shape[1] - 1\n",
    "Q2 = np.empty([K2, K])\n",
    "for idx2, col2 in enumerate(hist2.iloc[:,1:].columns):\n",
    "    x = col2[0:2]\n",
    "    y = col2[2:4]\n",
    "    for idx, col in enumerate(hist.iloc[:,1:].columns):\n",
    "        if x == col[0:2] and y == col[4:6]:\n",
    "            Q2[idx2, idx] = 1\n",
    "        else:\n",
    "            Q2[idx2, idx] = 0\n",
    "theta2_fa = np.empty([I, I, K2])\n",
    "for k2 in range(K2):\n",
    "    for i in range(I):\n",
    "        for j in range(I):\n",
    "            sum1, sum2 = 0, 0\n",
    "            for k in range(K):\n",
    "                sum1 += Q2[k2, k] * theta_fa[i, j, k] * A[i, k]\n",
    "                sum2 += Q2[k2, k] * A[i, k]\n",
    "            theta2_fa[i, j, k2] = sum1 / sum2           \n",
    "theta2_fa[~np.isfinite(theta2_fa)] = 0\n",
    "\n",
    "A2 = hist2.iloc[:,1:].to_numpy()\n",
    "A2_fa = np.empty([I, K2])\n",
    "for k2 in range(K2):\n",
    "    for j in range(I):\n",
    "        sum = 0\n",
    "        for i in range(I):\n",
    "            sum += theta2_fa[i, j, k2] * A2[i, k2]\n",
    "        A2_fa[j, k2] = sum\n",
    "\n",
    "A2_fa = pd.DataFrame(A2_fa)\n",
    "A2_fa[\"TRACT\"] = hist2[\"TRACT\"]\n",
    "merged_fa = merged_fa.join(A2_fa.set_index('TRACT'))\n",
    "merged_fa[\"0101_pct_after\"] = merged_fa[2]/(merged_fa[0]+merged_fa[1]+merged_fa[2]+merged_fa[3]+merged_fa[4]+merged_fa[5]+merged_fa[6]+merged_fa[7]+merged_fa[8]+merged_fa[9]+merged_fa[10]+merged_fa[11]+merged_fa[12]+merged_fa[13]) * 100\n",
    "merged_fa['0101_pct_after'] = merged_fa['0101_pct_after'].fillna(0)\n",
    "merged_fa = merged_fa.sort_index()\n",
    "\n",
    "gdf['GEOID10'] = gdf['GEOID10'].astype(str)\n",
    "w = weights.distance.KNN.from_dataframe(gdf, k=20)\n",
    "w.transform = 'R'\n",
    "lisa_fa = esda.moran.Moran_Local(merged_fa[\"0101_pct_after\"], w)\n",
    "fig = lisa_cluster(lisa_fa, gdf)\n",
    "plt.savefig('plot/lisa_scm_fa.eps', format='eps')"
   ]
  },
  {
   "cell_type": "markdown",
   "metadata": {},
   "source": [
    "LISA: SP"
   ]
  },
  {
   "cell_type": "code",
   "execution_count": 157,
   "metadata": {},
   "outputs": [],
   "source": [
    "import numpy as np\n",
    "import geopandas as gpd\n",
    "from pysal.lib import weights\n",
    "from pysal.explore import esda\n",
    "import matplotlib.pyplot as plt  # Graphics\n",
    "from splot.esda import lisa_cluster\n",
    "\n",
    "filename_gdf = 'data/franklin_tract10.json'\n",
    "gdf = gpd.read_file(filename_gdf)\n",
    "merged_sp = gdf.set_index('GEOID10').join(hist2.set_index('TRACT'))\n",
    "merged_sp[\"0101_pct_before\"] = merged_sp[\"0200\"]/(merged_sp[\"0000\"]+merged_sp[\"0100\"]+merged_sp[\"0200\"]+merged_sp[\"0300\"]+merged_sp[\"0400\"]+merged_sp[\"0500\"]+merged_sp[\"0600\"]+merged_sp[\"0001\"]+merged_sp[\"0101\"]+merged_sp[\"0201\"]+merged_sp[\"0301\"]+merged_sp[\"0401\"]+merged_sp[\"0501\"]+merged_sp[\"0601\"]) * 100\n",
    "merged_sp = merged_sp.sort_index()\n",
    "\n",
    "gdf['GEOID10'] = gdf['GEOID10'].astype(str)\n",
    "w = weights.distance.KNN.from_dataframe(gdf, k=20)\n",
    "w.transform = 'R'\n",
    "lisa = esda.moran.Moran_Local(merged_sp[\"0101_pct_before\"], w)"
   ]
  },
  {
   "cell_type": "code",
   "execution_count": 158,
   "metadata": {},
   "outputs": [
    {
     "name": "stderr",
     "output_type": "stream",
     "text": [
      "c:\\Users\\10716\\AppData\\Local\\Programs\\Python\\Python37\\lib\\site-packages\\ipykernel_launcher.py:38: RuntimeWarning: invalid value encountered in double_scalars\n",
      "The PostScript backend does not support transparency; partially transparent artists will be rendered opaque.\n",
      "The PostScript backend does not support transparency; partially transparent artists will be rendered opaque.\n"
     ]
    },
    {
     "data": {
      "image/png": "[encoded data removed]",
      "text/plain": [
       "<Figure size 432x288 with 1 Axes>"
      ]
     },
     "metadata": {
      "needs_background": "light"
     },
     "output_type": "display_data"
    }
   ],
   "source": [
    "## SP\n",
    "import csv\n",
    "import numpy as np\n",
    "import geopandas as gpd\n",
    "from splot.esda import lisa_cluster\n",
    "\n",
    "with open('data/theta/SCM-SP.csv', newline='') as f:\n",
    "    reader = csv.reader(f)\n",
    "    data_sp = list(reader)\n",
    "\n",
    "theta_sp = np.empty([I, I, K])\n",
    "for k in range(K):\n",
    "    for i in range(I):\n",
    "        if i not in V[k] and A[i, k] != 0:\n",
    "            theta_sp[i, i, k] = 1\n",
    "for var in data_sp:\n",
    "    name = var[0].split(\"_\")\n",
    "    theta_sp[int(name[1]), int(name[2]), int(name[3])] = var[1]\n",
    "\n",
    "K2 = hist2.shape[1] - 1\n",
    "Q2 = np.empty([K2, K])\n",
    "for idx2, col2 in enumerate(hist2.iloc[:,1:].columns):\n",
    "    x = col2[0:2]\n",
    "    y = col2[2:4]\n",
    "    for idx, col in enumerate(hist.iloc[:,1:].columns):\n",
    "        if x == col[0:2] and y == col[4:6]:\n",
    "            Q2[idx2, idx] = 1\n",
    "        else:\n",
    "            Q2[idx2, idx] = 0\n",
    "theta2_sp = np.empty([I, I, K2])\n",
    "for k2 in range(K2):\n",
    "    for i in range(I):\n",
    "        for j in range(I):\n",
    "            sum1, sum2 = 0, 0\n",
    "            for k in range(K):\n",
    "                sum1 += Q2[k2, k] * theta_sp[i, j, k] * A[i, k]\n",
    "                sum2 += Q2[k2, k] * A[i, k]\n",
    "            theta2_sp[i, j, k2] = sum1 / sum2           \n",
    "theta2_sp[~np.isfinite(theta2_sp)] = 0\n",
    "\n",
    "A2 = hist2.iloc[:,1:].to_numpy()\n",
    "A2_sp = np.empty([I, K2])\n",
    "for k2 in range(K2):\n",
    "    for j in range(I):\n",
    "        sum = 0\n",
    "        for i in range(I):\n",
    "            sum += theta2_sp[i, j, k2] * A2[i, k2]\n",
    "        A2_sp[j, k2] = sum\n",
    "\n",
    "A2_sp = pd.DataFrame(A2_sp)\n",
    "A2_sp[\"TRACT\"] = hist2[\"TRACT\"]\n",
    "merged_sp = merged_sp.join(A2_sp.set_index('TRACT'))\n",
    "merged_sp[\"0101_pct_after\"] = merged_sp[2]/(merged_sp[0]+merged_sp[1]+merged_sp[2]+merged_sp[3]+merged_sp[4]+merged_sp[5]+merged_sp[6]+merged_sp[7]+merged_sp[8]+merged_sp[9]+merged_sp[10]+merged_sp[11]+merged_sp[12]+merged_sp[13]) * 100\n",
    "merged_sp['0101_pct_after'] = merged_sp['0101_pct_after'].fillna(0)\n",
    "merged_sp = merged_sp.sort_index()\n",
    "\n",
    "gdf['GEOID10'] = gdf['GEOID10'].astype(str)\n",
    "w = weights.distance.KNN.from_dataframe(gdf, k=20)\n",
    "w.transform = 'R'\n",
    "lisa_sp = esda.moran.Moran_Local(merged_sp[\"0101_pct_after\"], w)\n",
    "fig = lisa_cluster(lisa_sp, gdf)\n",
    "plt.savefig('plot/lisa_scm_sp.eps', format='eps')"
   ]
  },
  {
   "cell_type": "markdown",
   "metadata": {},
   "source": [
    "Confusion matrix"
   ]
  },
  {
   "cell_type": "code",
   "execution_count": 164,
   "metadata": {},
   "outputs": [
    {
     "data": {
      "image/png": "[encoded data removed]",
      "text/plain": [
       "<Figure size 432x288 with 2 Axes>"
      ]
     },
     "metadata": {
      "needs_background": "light"
     },
     "output_type": "display_data"
    }
   ],
   "source": [
    "from sklearn.metrics import confusion_matrix\n",
    "import seaborn as sns\n",
    "\n",
    "ls = [lisa.q[i] if lisa.p_sim[i] <= 0.05 else 0 for i in range(len(lisa.q))]\n",
    "ls_fa = [lisa_fa.q[i] if lisa_fa.p_sim[i] <= 0.05 else 0 for i in range(len(lisa_fa.q))]\n",
    "\n",
    "cf_fa = confusion_matrix(ls, ls_fa)\n",
    "ax = sns.heatmap(cf_fa, annot=True, cmap='Greys', vmin=0, vmax=8)\n",
    "ax.xaxis.set_ticklabels(['Not Significant','HH','LH','LL','HL'])\n",
    "ax.yaxis.set_ticklabels(['Not Significant','HH','LH','LL','HL'])\n",
    "plt.savefig('plot/lisa_scm_fa_hist.eps', format='eps')"
   ]
  },
  {
   "cell_type": "code",
   "execution_count": 165,
   "metadata": {},
   "outputs": [
    {
     "data": {
      "image/png": "[encoded data removed]",
      "text/plain": [
       "<Figure size 432x288 with 2 Axes>"
      ]
     },
     "metadata": {
      "needs_background": "light"
     },
     "output_type": "display_data"
    }
   ],
   "source": [
    "ls_sp = [lisa_sp.q[i] if lisa_sp.p_sim[i] <= 0.05 else 0 for i in range(len(lisa_sp.q))]\n",
    "\n",
    "cf_sp = confusion_matrix(ls, ls_sp)\n",
    "ax = sns.heatmap(cf_sp, annot=True, cmap='Greys', vmin=0, vmax=8)\n",
    "ax.xaxis.set_ticklabels(['Not Significant','HH','LH','LL','HL'])\n",
    "ax.yaxis.set_ticklabels(['Not Significant','HH','LH','LL','HL'])\n",
    "plt.savefig('plot/lisa_scm_sp_hist.eps', format='eps')"
   ]
  }
 ],
 "metadata": {
  "interpreter": {
   "hash": "919adcb6228f4c1814dc7795e2ffcd9a8de1cd95be3f29f3d468acc1c3136f89"
  },
  "kernelspec": {
   "display_name": "Python 3.7.5 64-bit",
   "language": "python",
   "name": "python3"
  },
  "language_info": {
   "codemirror_mode": {
    "name": "ipython",
    "version": 3
   },
   "file_extension": ".py",
   "mimetype": "text/x-python",
   "name": "python",
   "nbconvert_exporter": "python",
   "pygments_lexer": "ipython3",
   "version": "3.7.5"
  },
  "orig_nbformat": 4
 },
 "nbformat": 4,
 "nbformat_minor": 2
}
